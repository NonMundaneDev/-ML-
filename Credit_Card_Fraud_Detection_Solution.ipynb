{
  "nbformat": 4,
  "nbformat_minor": 0,
  "metadata": {
    "colab": {
      "name": "Credit Card Fraud Detection Solution.ipynb",
      "provenance": [],
      "collapsed_sections": [
        "UgYWpULIIgcx"
      ],
      "toc_visible": true,
      "include_colab_link": true
    },
    "kernelspec": {
      "name": "python3",
      "display_name": "Python 3"
    }
  },
  "cells": [
    {
      "cell_type": "markdown",
      "metadata": {
        "id": "view-in-github",
        "colab_type": "text"
      },
      "source": [
        "<a href=\"https://colab.research.google.com/github/NonMundaneDev/-ML-/blob/master/Credit_Card_Fraud_Detection_Solution.ipynb\" target=\"_parent\"><img src=\"https://colab.research.google.com/assets/colab-badge.svg\" alt=\"Open In Colab\"/></a>"
      ]
    },
    {
      "cell_type": "markdown",
      "metadata": {
        "colab_type": "text",
        "id": "fkk0vHHSmmil"
      },
      "source": [
        "1. Introduction\n",
        "Background of study\n",
        "Problem statement\n",
        "Aim and objectives\n",
        "2. Literature Review\n",
        "Evolution of credit card fraud detection\n",
        "Research related works\n",
        "Contribution to knowledge\n",
        "3. System Design Approach\n",
        "Method deployed\n",
        "Language used\n",
        "Flowcharts and program codes\n",
        "Analysis\n",
        "4 Result & Analysis\n",
        "Test, and result\n",
        "Explanation of graphs and their implication\n",
        "5. Summary and conclusion\n",
        "Recommendation\n",
        "References"
      ]
    },
    {
      "cell_type": "markdown",
      "metadata": {
        "id": "Tx3oPqjuFI4u",
        "colab_type": "text"
      },
      "source": [
        "## CREDIT CARD FRAUD DETECTION USING SUPERVISED LEARNING ALGORITHMS"
      ]
    },
    {
      "cell_type": "markdown",
      "metadata": {
        "id": "PR8p68CzFYfN",
        "colab_type": "text"
      },
      "source": [
        ""
      ]
    },
    {
      "cell_type": "markdown",
      "metadata": {
        "id": "_kqYYqMV1lJp",
        "colab_type": "text"
      },
      "source": [
        "### Introduction\n",
        "\n",
        "‘Fraud’ in credit card transactions is unauthorized and unwanted usage of an account by someone other than the owner of that account. Necessary prevention measures can be taken to stop this abuse and the behaviour of such fraudulent practices can be studied to minimize it and protect against similar occurrences in the future.In other words, Credit Card Fraud can be defined as a case where a person uses someone elses credit card for personal reasons while the owner and the card issuing authorities are unaware of the fact that the card is being used. \n",
        "\n",
        "The financial services industry and the industries that involve financial transactions are suffering from fraud-related losses and damages. Online electronic transactions are increasing with credit cards as its easier and time saving for the customers to\n",
        "purchase. But the number of frauds or fraudulent transactions are costing the credit card companies a huge amount annually. Due to rise and acceleration of E-Commerce, there has been a tremendous use of credit cards for online shopping which led to High amount of frauds related to credit cards. In the era of digitalization the need to identify credit card frauds is necessary.\n",
        "\n",
        "Fraud has been increasing drastically with the progression of state-of-art technology and worldwide communication. Fraud can be avoided in two main ways: prevention and detection. Prevention avoids any attacks from fraudsters by acting as a layer of protection. Fraud detection involves monitoring and analyzing the behavior of various users in order to estimate detect or avoid undesirable behavior. Detection happens once the prevention has already failed. Therefore,\n",
        "detection helps in identifying and alerting as soon as a fraudulent transaction is being triggered. Recently, card-not-present transactions in credit card operations have become popular among web payment gateways. In order to identify credit card fraud detection effectively we need to understand the various technologies, algorithms and types involved in detecting credit card frauds.\n",
        "\n",
        "### Background of Study\n",
        "After rampant increases in credit card fraud in 2015 (when it increased 34.8%) and 2016 (66.6%), it appeared to have stabilized somewhat in 2017, as it only went up by 6.7%. 2018 brought another substantial jump, though, with credit card fraud reports increasing by another 18.4%. The amount of money lost due to fraud using existing credit or debit cards decreased substantially last year, from $8.1 billion in 2017 to $6.4 billion in 2018. And we should note here that consumers aren’t footing the bill for most of those losses due to financial regulations governing unauthorized transactions. This is avery significant loss.\n",
        "\n",
        "Over the years, credit card fraud had been prevented and detected using complex rule-based algorithms that do not scale to catch the ever dynamic and newer methods of fraudsters. There is a need for a system that can learn on its own what fraud is, and create an ever dynamic set of rules by itself and be robust enough to catch the sophisticated methods of fraudsters in online transactions and digital payment activties. Machine learning is this generation's solution which\n",
        "replaces such methodologies and can work on large datasets which is not easily possible for human beings. Machine learning techniques fall into two main categories;\n",
        "supervised learning and unsupervised learning. Fraud\n",
        "detection can be done in either way and only can be decided\n",
        "when to use according to the dataset. Supervised learning\n",
        "requires prior classification to anomalies (meaning fraud analysts will ghave to inspect and classify previous transactions as scenarios of fraud or non-fraudulent cases and classiy them accordingly). During the last\n",
        "few years, several supervised algorithms have been used in\n",
        "detecting credit card fraud.\n",
        "\n",
        "In this study, we would be comparing traditional (or manual) methods of detecting fraud in credit card and as well using supervised learning algorithms to build a machine learning model that catches new cases of fraud in credit card transactions. \n",
        "\n",
        "Machine Learning systems work with data. They learn to associate inputs (features) in the dataset together by discovering the underlying patterns between features (like location and time of transaction, frequency of transaction, category of purchase, purchase amount, bioemtrics, and some other features) and labels (cases classified as \"fraudulent\" or \"non-fraudulent\").\n",
        "\n",
        "\n",
        "\n",
        "### Problem Statement\n",
        "\n",
        "It is important that credit card companies are able to recognize fraudulent credit card transactions so that customers are not charged for items that they did not purchase.The problem we are trying to solve is to identify fraudulent credit card transactions using an optimal model that balances the precision-recall tradeoff, given the class imbalance ratio in the data set.\n",
        "\n",
        "\n",
        "### Aim\n",
        "\n",
        "The aim of this study is to show how machine learning systems outperforms traditional methods of detecting fraudulent online credit card transactions while showing the best metric to use for the problem.\n",
        "\n",
        "\n",
        "### Objective\n",
        "\n",
        "The objective of this study is to build a machine learning model that outperforms traditional methods of detecting fraud while correctly catching as much newer fraud cases as possible in newer datasets."
      ]
    },
    {
      "cell_type": "markdown",
      "metadata": {
        "id": "D0DmRAHiIvtS",
        "colab_type": "text"
      },
      "source": [
        "## 4. System Design Approach\n",
        "\n",
        "\n",
        "\n",
        "![alt text](https://storage.googleapis.com/creditcard_dataset/Flow%20chart%20credit%20card%20fraud%20detection.png)\n",
        "\n",
        "System Architecture Diagram\n",
        "\n",
        "\n",
        "\n",
        "\n",
        "\n",
        "A. **Raw Data:** The collected input data is in the form of csv files.\n",
        "\n",
        "B. **Prepared Data:** A process to gather context to the input data. Understanding the data for pre\n",
        "processing and cleaning of datasets. The two columns 'amount' and 'time' in the dataset were not normalised. The remaining\n",
        "columns were normalised using Principal Component analysis. \n",
        "\n",
        "C. **Oversampling(Using A Variety of Techniques and then Settling for SMOTE):** The fraud transactions are 492 samples which is unbalanced. Hence versampling of fraud cases is performed. The reason we settled with SMOTE is that it gives a more concrete oversampling of the minority class compared to other technqiues that are just based off making copies of the majority class to balance that of the minority class.\n",
        "\n",
        "D. **Training and Testing Subset:** As the dataset is imbalanced, many classifiers show bias for majority\n",
        "classes. The features of minority class are treated as noise and are ignored. Hence it is proposed to select a\n",
        "sample dataset.\n",
        "\n",
        "E. **Selecting Candidate Algorithms and Choosing an Optimal Model:** Following are the classification algorithms used to test the sub-sample dataset.\n",
        "\n",
        "a. Logistic Regression\n",
        "\n",
        "b. Random Forest\n",
        "\n",
        "c. Decision Trees\n",
        "\n",
        "d. Voting Classifiers\n",
        "\n",
        "F. **Predicting Results:** The test subset is applied on the trained model. The metrices used are precision and\n",
        "Recall score. The AUROC Curve is plotted and the model is optimized until the desirable results are achieved.\n",
        "\n",
        "\n",
        "\n",
        "### Tools, Frameworks and Requirements Used in the Process.\n",
        "\n",
        "**Programming Language (version):** Python (3.7)\n",
        "\n",
        "**Libraries used:** Scikitlearn, Matplotlib, Numpy, Pandas\n",
        "\n",
        "**Research Notebbok:** Google Collaboratory Notebook\n",
        "\n",
        "**System Requirements:** The models were trained on a 1-core CPU with 8 GB of RAM. Both candidate models and final models took under 4 minutes to train.\n",
        "\n"
      ]
    },
    {
      "cell_type": "markdown",
      "metadata": {
        "id": "d7OTMSUyZsno",
        "colab_type": "text"
      },
      "source": [
        "## Getting the Data and Understanding it\n",
        "\n",
        "\n",
        "The dataset used in this study contains transactions made by credit cards in September 2013 by european cardholders. This dataset presents transactions that occurred in two days, where we have 492 frauds out of 284,807 transactions. The dataset is highly unbalanced, the positive class (frauds) account for 0.172% of all transactions.\n",
        "\n",
        "It contains only numerical input variables which are the result of a PCA (Principal Component Analysis; a data normaization technique) transformation. Unfortunately, due to confidentiality issues, we cannot provide the original features and more background information about the data. Features V1, V2, ... V28 are the principal components obtained with PCA, the only features which have not been transformed with PCA are 'Time' and 'Amount'. Feature 'Time' contains the seconds elapsed between each transaction and the first transaction in the dataset. The feature 'Amount' is the transaction Amount, this feature can be used for example-dependant cost-senstive learning. Feature 'Class' is the response variable and it takes value 1 in case of fraud and 0 otherwise.\n",
        "\n",
        "Fraud occurrences are fortunately an extreme minority in these transactions.\n",
        "\n",
        "However, Machine Learning algorithms usually work best when the different classes contained in the dataset are more or less equally present. If there are few cases of fraud, then there's little data to learn how to identify them. This is known as class imbalance, and it's one of the main challenges of fraud detection.\n",
        "\n",
        "Dataset source abnd acknowledgement can be found [here](https://www.kaggle.com/mlg-ulb/creditcardfraud).\n"
      ]
    },
    {
      "cell_type": "markdown",
      "metadata": {
        "id": "h19WAmOcYL0z",
        "colab_type": "text"
      },
      "source": [
        "Import the different Libraries that will be needed"
      ]
    },
    {
      "cell_type": "code",
      "metadata": {
        "id": "XUQFKlwyOprl",
        "colab_type": "code",
        "colab": {}
      },
      "source": [
        "import numpy as np  # Numpy is a library used for number crunching\n",
        "import matplotlib.pyplot as plt  # Matplotlib is a library used for data visualization."
      ],
      "execution_count": 0,
      "outputs": []
    },
    {
      "cell_type": "code",
      "metadata": {
        "id": "mQ1hzxZuYKcx",
        "colab_type": "code",
        "colab": {}
      },
      "source": [
        "# Import pandas and read csv (beacuase our data is in csv (comma seperated values) format)\n",
        "import pandas as pd  # Pandas is used for data manipulation\n",
        "\n",
        "transaction_data = pd.read_csv(\"https://storage.googleapis.com/creditcard_dataset/creditcard.csv\")  # Read the data which is a CSV (comma seperated values) from the website url.\n"
      ],
      "execution_count": 0,
      "outputs": []
    },
    {
      "cell_type": "markdown",
      "metadata": {
        "id": "Qlg_8-JgZ_Cl",
        "colab_type": "text"
      },
      "source": [
        "### Let us take a look at the data we just read into this notebook"
      ]
    },
    {
      "cell_type": "code",
      "metadata": {
        "id": "7bVcAqtWi7JV",
        "colab_type": "code",
        "outputId": "bcad364a-b0f0-475d-8b48-bcfab4047a27",
        "colab": {
          "base_uri": "https://localhost:8080/",
          "height": 773
        }
      },
      "source": [
        "# Explore the features available in your dataframe\n",
        "print(transaction_data.info())\n",
        "print()\n",
        "\n",
        "# Count the occurrences of fraud and no fraud and print them\n",
        "occ = transaction_data['Class'].value_counts()\n",
        "print(occ)\n",
        "print()\n",
        "\n",
        "# Print the ratio of fraud cases\n",
        "print(occ / transaction_data.shape[0]) #Check for the perc"
      ],
      "execution_count": 0,
      "outputs": [
        {
          "output_type": "stream",
          "text": [
            "<class 'pandas.core.frame.DataFrame'>\n",
            "RangeIndex: 284807 entries, 0 to 284806\n",
            "Data columns (total 31 columns):\n",
            "Time      284807 non-null float64\n",
            "V1        284807 non-null float64\n",
            "V2        284807 non-null float64\n",
            "V3        284807 non-null float64\n",
            "V4        284807 non-null float64\n",
            "V5        284807 non-null float64\n",
            "V6        284807 non-null float64\n",
            "V7        284807 non-null float64\n",
            "V8        284807 non-null float64\n",
            "V9        284807 non-null float64\n",
            "V10       284807 non-null float64\n",
            "V11       284807 non-null float64\n",
            "V12       284807 non-null float64\n",
            "V13       284807 non-null float64\n",
            "V14       284807 non-null float64\n",
            "V15       284807 non-null float64\n",
            "V16       284807 non-null float64\n",
            "V17       284807 non-null float64\n",
            "V18       284807 non-null float64\n",
            "V19       284807 non-null float64\n",
            "V20       284807 non-null float64\n",
            "V21       284807 non-null float64\n",
            "V22       284807 non-null float64\n",
            "V23       284807 non-null float64\n",
            "V24       284807 non-null float64\n",
            "V25       284807 non-null float64\n",
            "V26       284807 non-null float64\n",
            "V27       284807 non-null float64\n",
            "V28       284807 non-null float64\n",
            "Amount    284807 non-null float64\n",
            "Class     284807 non-null int64\n",
            "dtypes: float64(30), int64(1)\n",
            "memory usage: 67.4 MB\n",
            "None\n",
            "\n",
            "0    284315\n",
            "1       492\n",
            "Name: Class, dtype: int64\n",
            "\n",
            "0    0.998273\n",
            "1    0.001727\n",
            "Name: Class, dtype: float64\n"
          ],
          "name": "stdout"
        }
      ]
    },
    {
      "cell_type": "markdown",
      "metadata": {
        "id": "suSNSsr7aEua",
        "colab_type": "text"
      },
      "source": [
        "From the avove results we can see that there are no \"null\" (missing values) in the dataset. It is important to check for this before moving further to better understand the dataset you are working with. We can also see that the total number of rows in our dataset is 284,807 rows.\n",
        "\n",
        "The \"Class\" feature will be our label (the \"answers\" our model will train off to \"understand\" what makes a transaction fraudulent or non-fraudulent). Class Distributions (0: No Fraud, 1:Fraud) of original dataset. This is also the reason this is a supervised learning problem. Because we are also classifying the transaction into \"fraudulent\" or \"non-fraudulent\", it is also a classification problem and more specifically, a binary classification problem."
      ]
    },
    {
      "cell_type": "markdown",
      "metadata": {
        "id": "LKkUuxb_b3NG",
        "colab_type": "text"
      },
      "source": [
        "We take a look at the dataframe structure of our data by inspecting the firs 5 rows of it..."
      ]
    },
    {
      "cell_type": "code",
      "metadata": {
        "id": "nuMHZ3N7Ohwa",
        "colab_type": "code",
        "outputId": "e23e5057-578d-4447-fc0a-7dd81f8081fe",
        "colab": {
          "base_uri": "https://localhost:8080/",
          "height": 215
        }
      },
      "source": [
        "# Check the first 5 rows of the dataset with the `.head()` function\n",
        "\n",
        "transaction_data.head()"
      ],
      "execution_count": 0,
      "outputs": [
        {
          "output_type": "execute_result",
          "data": {
            "text/html": [
              "<div>\n",
              "<style scoped>\n",
              "    .dataframe tbody tr th:only-of-type {\n",
              "        vertical-align: middle;\n",
              "    }\n",
              "\n",
              "    .dataframe tbody tr th {\n",
              "        vertical-align: top;\n",
              "    }\n",
              "\n",
              "    .dataframe thead th {\n",
              "        text-align: right;\n",
              "    }\n",
              "</style>\n",
              "<table border=\"1\" class=\"dataframe\">\n",
              "  <thead>\n",
              "    <tr style=\"text-align: right;\">\n",
              "      <th></th>\n",
              "      <th>Time</th>\n",
              "      <th>V1</th>\n",
              "      <th>V2</th>\n",
              "      <th>V3</th>\n",
              "      <th>V4</th>\n",
              "      <th>V5</th>\n",
              "      <th>V6</th>\n",
              "      <th>V7</th>\n",
              "      <th>V8</th>\n",
              "      <th>V9</th>\n",
              "      <th>V10</th>\n",
              "      <th>V11</th>\n",
              "      <th>V12</th>\n",
              "      <th>V13</th>\n",
              "      <th>V14</th>\n",
              "      <th>V15</th>\n",
              "      <th>V16</th>\n",
              "      <th>V17</th>\n",
              "      <th>V18</th>\n",
              "      <th>V19</th>\n",
              "      <th>V20</th>\n",
              "      <th>V21</th>\n",
              "      <th>V22</th>\n",
              "      <th>V23</th>\n",
              "      <th>V24</th>\n",
              "      <th>V25</th>\n",
              "      <th>V26</th>\n",
              "      <th>V27</th>\n",
              "      <th>V28</th>\n",
              "      <th>Amount</th>\n",
              "      <th>Class</th>\n",
              "    </tr>\n",
              "  </thead>\n",
              "  <tbody>\n",
              "    <tr>\n",
              "      <th>0</th>\n",
              "      <td>0.0</td>\n",
              "      <td>-1.359807</td>\n",
              "      <td>-0.072781</td>\n",
              "      <td>2.536347</td>\n",
              "      <td>1.378155</td>\n",
              "      <td>-0.338321</td>\n",
              "      <td>0.462388</td>\n",
              "      <td>0.239599</td>\n",
              "      <td>0.098698</td>\n",
              "      <td>0.363787</td>\n",
              "      <td>0.090794</td>\n",
              "      <td>-0.551600</td>\n",
              "      <td>-0.617801</td>\n",
              "      <td>-0.991390</td>\n",
              "      <td>-0.311169</td>\n",
              "      <td>1.468177</td>\n",
              "      <td>-0.470401</td>\n",
              "      <td>0.207971</td>\n",
              "      <td>0.025791</td>\n",
              "      <td>0.403993</td>\n",
              "      <td>0.251412</td>\n",
              "      <td>-0.018307</td>\n",
              "      <td>0.277838</td>\n",
              "      <td>-0.110474</td>\n",
              "      <td>0.066928</td>\n",
              "      <td>0.128539</td>\n",
              "      <td>-0.189115</td>\n",
              "      <td>0.133558</td>\n",
              "      <td>-0.021053</td>\n",
              "      <td>149.62</td>\n",
              "      <td>0</td>\n",
              "    </tr>\n",
              "    <tr>\n",
              "      <th>1</th>\n",
              "      <td>0.0</td>\n",
              "      <td>1.191857</td>\n",
              "      <td>0.266151</td>\n",
              "      <td>0.166480</td>\n",
              "      <td>0.448154</td>\n",
              "      <td>0.060018</td>\n",
              "      <td>-0.082361</td>\n",
              "      <td>-0.078803</td>\n",
              "      <td>0.085102</td>\n",
              "      <td>-0.255425</td>\n",
              "      <td>-0.166974</td>\n",
              "      <td>1.612727</td>\n",
              "      <td>1.065235</td>\n",
              "      <td>0.489095</td>\n",
              "      <td>-0.143772</td>\n",
              "      <td>0.635558</td>\n",
              "      <td>0.463917</td>\n",
              "      <td>-0.114805</td>\n",
              "      <td>-0.183361</td>\n",
              "      <td>-0.145783</td>\n",
              "      <td>-0.069083</td>\n",
              "      <td>-0.225775</td>\n",
              "      <td>-0.638672</td>\n",
              "      <td>0.101288</td>\n",
              "      <td>-0.339846</td>\n",
              "      <td>0.167170</td>\n",
              "      <td>0.125895</td>\n",
              "      <td>-0.008983</td>\n",
              "      <td>0.014724</td>\n",
              "      <td>2.69</td>\n",
              "      <td>0</td>\n",
              "    </tr>\n",
              "    <tr>\n",
              "      <th>2</th>\n",
              "      <td>1.0</td>\n",
              "      <td>-1.358354</td>\n",
              "      <td>-1.340163</td>\n",
              "      <td>1.773209</td>\n",
              "      <td>0.379780</td>\n",
              "      <td>-0.503198</td>\n",
              "      <td>1.800499</td>\n",
              "      <td>0.791461</td>\n",
              "      <td>0.247676</td>\n",
              "      <td>-1.514654</td>\n",
              "      <td>0.207643</td>\n",
              "      <td>0.624501</td>\n",
              "      <td>0.066084</td>\n",
              "      <td>0.717293</td>\n",
              "      <td>-0.165946</td>\n",
              "      <td>2.345865</td>\n",
              "      <td>-2.890083</td>\n",
              "      <td>1.109969</td>\n",
              "      <td>-0.121359</td>\n",
              "      <td>-2.261857</td>\n",
              "      <td>0.524980</td>\n",
              "      <td>0.247998</td>\n",
              "      <td>0.771679</td>\n",
              "      <td>0.909412</td>\n",
              "      <td>-0.689281</td>\n",
              "      <td>-0.327642</td>\n",
              "      <td>-0.139097</td>\n",
              "      <td>-0.055353</td>\n",
              "      <td>-0.059752</td>\n",
              "      <td>378.66</td>\n",
              "      <td>0</td>\n",
              "    </tr>\n",
              "    <tr>\n",
              "      <th>3</th>\n",
              "      <td>1.0</td>\n",
              "      <td>-0.966272</td>\n",
              "      <td>-0.185226</td>\n",
              "      <td>1.792993</td>\n",
              "      <td>-0.863291</td>\n",
              "      <td>-0.010309</td>\n",
              "      <td>1.247203</td>\n",
              "      <td>0.237609</td>\n",
              "      <td>0.377436</td>\n",
              "      <td>-1.387024</td>\n",
              "      <td>-0.054952</td>\n",
              "      <td>-0.226487</td>\n",
              "      <td>0.178228</td>\n",
              "      <td>0.507757</td>\n",
              "      <td>-0.287924</td>\n",
              "      <td>-0.631418</td>\n",
              "      <td>-1.059647</td>\n",
              "      <td>-0.684093</td>\n",
              "      <td>1.965775</td>\n",
              "      <td>-1.232622</td>\n",
              "      <td>-0.208038</td>\n",
              "      <td>-0.108300</td>\n",
              "      <td>0.005274</td>\n",
              "      <td>-0.190321</td>\n",
              "      <td>-1.175575</td>\n",
              "      <td>0.647376</td>\n",
              "      <td>-0.221929</td>\n",
              "      <td>0.062723</td>\n",
              "      <td>0.061458</td>\n",
              "      <td>123.50</td>\n",
              "      <td>0</td>\n",
              "    </tr>\n",
              "    <tr>\n",
              "      <th>4</th>\n",
              "      <td>2.0</td>\n",
              "      <td>-1.158233</td>\n",
              "      <td>0.877737</td>\n",
              "      <td>1.548718</td>\n",
              "      <td>0.403034</td>\n",
              "      <td>-0.407193</td>\n",
              "      <td>0.095921</td>\n",
              "      <td>0.592941</td>\n",
              "      <td>-0.270533</td>\n",
              "      <td>0.817739</td>\n",
              "      <td>0.753074</td>\n",
              "      <td>-0.822843</td>\n",
              "      <td>0.538196</td>\n",
              "      <td>1.345852</td>\n",
              "      <td>-1.119670</td>\n",
              "      <td>0.175121</td>\n",
              "      <td>-0.451449</td>\n",
              "      <td>-0.237033</td>\n",
              "      <td>-0.038195</td>\n",
              "      <td>0.803487</td>\n",
              "      <td>0.408542</td>\n",
              "      <td>-0.009431</td>\n",
              "      <td>0.798278</td>\n",
              "      <td>-0.137458</td>\n",
              "      <td>0.141267</td>\n",
              "      <td>-0.206010</td>\n",
              "      <td>0.502292</td>\n",
              "      <td>0.219422</td>\n",
              "      <td>0.215153</td>\n",
              "      <td>69.99</td>\n",
              "      <td>0</td>\n",
              "    </tr>\n",
              "  </tbody>\n",
              "</table>\n",
              "</div>"
            ],
            "text/plain": [
              "   Time        V1        V2        V3  ...       V27       V28  Amount  Class\n",
              "0   0.0 -1.359807 -0.072781  2.536347  ...  0.133558 -0.021053  149.62      0\n",
              "1   0.0  1.191857  0.266151  0.166480  ... -0.008983  0.014724    2.69      0\n",
              "2   1.0 -1.358354 -1.340163  1.773209  ... -0.055353 -0.059752  378.66      0\n",
              "3   1.0 -0.966272 -0.185226  1.792993  ...  0.062723  0.061458  123.50      0\n",
              "4   2.0 -1.158233  0.877737  1.548718  ...  0.219422  0.215153   69.99      0\n",
              "\n",
              "[5 rows x 31 columns]"
            ]
          },
          "metadata": {
            "tags": []
          },
          "execution_count": 5
        }
      ]
    },
    {
      "cell_type": "markdown",
      "metadata": {
        "id": "qT5gFuckdenk",
        "colab_type": "text"
      },
      "source": [
        "By calling the `.describe()` function on the dataset, we can see even more statitics on each of the column. More specifically, the number of rows (as \"count\"); 284,807."
      ]
    },
    {
      "cell_type": "code",
      "metadata": {
        "id": "avvteqlddUQr",
        "colab_type": "code",
        "outputId": "fb20e9d6-16cf-4ef0-e5de-2f97a9527f8b",
        "colab": {
          "base_uri": "https://localhost:8080/",
          "height": 304
        }
      },
      "source": [
        "transaction_data.describe()"
      ],
      "execution_count": 0,
      "outputs": [
        {
          "output_type": "execute_result",
          "data": {
            "text/html": [
              "<div>\n",
              "<style scoped>\n",
              "    .dataframe tbody tr th:only-of-type {\n",
              "        vertical-align: middle;\n",
              "    }\n",
              "\n",
              "    .dataframe tbody tr th {\n",
              "        vertical-align: top;\n",
              "    }\n",
              "\n",
              "    .dataframe thead th {\n",
              "        text-align: right;\n",
              "    }\n",
              "</style>\n",
              "<table border=\"1\" class=\"dataframe\">\n",
              "  <thead>\n",
              "    <tr style=\"text-align: right;\">\n",
              "      <th></th>\n",
              "      <th>Time</th>\n",
              "      <th>V1</th>\n",
              "      <th>V2</th>\n",
              "      <th>V3</th>\n",
              "      <th>V4</th>\n",
              "      <th>V5</th>\n",
              "      <th>V6</th>\n",
              "      <th>V7</th>\n",
              "      <th>V8</th>\n",
              "      <th>V9</th>\n",
              "      <th>V10</th>\n",
              "      <th>V11</th>\n",
              "      <th>V12</th>\n",
              "      <th>V13</th>\n",
              "      <th>V14</th>\n",
              "      <th>V15</th>\n",
              "      <th>V16</th>\n",
              "      <th>V17</th>\n",
              "      <th>V18</th>\n",
              "      <th>V19</th>\n",
              "      <th>V20</th>\n",
              "      <th>V21</th>\n",
              "      <th>V22</th>\n",
              "      <th>V23</th>\n",
              "      <th>V24</th>\n",
              "      <th>V25</th>\n",
              "      <th>V26</th>\n",
              "      <th>V27</th>\n",
              "      <th>V28</th>\n",
              "      <th>Amount</th>\n",
              "      <th>Class</th>\n",
              "    </tr>\n",
              "  </thead>\n",
              "  <tbody>\n",
              "    <tr>\n",
              "      <th>count</th>\n",
              "      <td>284807.000000</td>\n",
              "      <td>2.848070e+05</td>\n",
              "      <td>2.848070e+05</td>\n",
              "      <td>2.848070e+05</td>\n",
              "      <td>2.848070e+05</td>\n",
              "      <td>2.848070e+05</td>\n",
              "      <td>2.848070e+05</td>\n",
              "      <td>2.848070e+05</td>\n",
              "      <td>2.848070e+05</td>\n",
              "      <td>2.848070e+05</td>\n",
              "      <td>2.848070e+05</td>\n",
              "      <td>2.848070e+05</td>\n",
              "      <td>2.848070e+05</td>\n",
              "      <td>2.848070e+05</td>\n",
              "      <td>2.848070e+05</td>\n",
              "      <td>2.848070e+05</td>\n",
              "      <td>2.848070e+05</td>\n",
              "      <td>2.848070e+05</td>\n",
              "      <td>2.848070e+05</td>\n",
              "      <td>2.848070e+05</td>\n",
              "      <td>2.848070e+05</td>\n",
              "      <td>2.848070e+05</td>\n",
              "      <td>2.848070e+05</td>\n",
              "      <td>2.848070e+05</td>\n",
              "      <td>2.848070e+05</td>\n",
              "      <td>2.848070e+05</td>\n",
              "      <td>2.848070e+05</td>\n",
              "      <td>2.848070e+05</td>\n",
              "      <td>2.848070e+05</td>\n",
              "      <td>284807.000000</td>\n",
              "      <td>284807.000000</td>\n",
              "    </tr>\n",
              "    <tr>\n",
              "      <th>mean</th>\n",
              "      <td>94813.859575</td>\n",
              "      <td>3.919560e-15</td>\n",
              "      <td>5.688174e-16</td>\n",
              "      <td>-8.769071e-15</td>\n",
              "      <td>2.782312e-15</td>\n",
              "      <td>-1.552563e-15</td>\n",
              "      <td>2.010663e-15</td>\n",
              "      <td>-1.694249e-15</td>\n",
              "      <td>-1.927028e-16</td>\n",
              "      <td>-3.137024e-15</td>\n",
              "      <td>1.768627e-15</td>\n",
              "      <td>9.170318e-16</td>\n",
              "      <td>-1.810658e-15</td>\n",
              "      <td>1.693438e-15</td>\n",
              "      <td>1.479045e-15</td>\n",
              "      <td>3.482336e-15</td>\n",
              "      <td>1.392007e-15</td>\n",
              "      <td>-7.528491e-16</td>\n",
              "      <td>4.328772e-16</td>\n",
              "      <td>9.049732e-16</td>\n",
              "      <td>5.085503e-16</td>\n",
              "      <td>1.537294e-16</td>\n",
              "      <td>7.959909e-16</td>\n",
              "      <td>5.367590e-16</td>\n",
              "      <td>4.458112e-15</td>\n",
              "      <td>1.453003e-15</td>\n",
              "      <td>1.699104e-15</td>\n",
              "      <td>-3.660161e-16</td>\n",
              "      <td>-1.206049e-16</td>\n",
              "      <td>88.349619</td>\n",
              "      <td>0.001727</td>\n",
              "    </tr>\n",
              "    <tr>\n",
              "      <th>std</th>\n",
              "      <td>47488.145955</td>\n",
              "      <td>1.958696e+00</td>\n",
              "      <td>1.651309e+00</td>\n",
              "      <td>1.516255e+00</td>\n",
              "      <td>1.415869e+00</td>\n",
              "      <td>1.380247e+00</td>\n",
              "      <td>1.332271e+00</td>\n",
              "      <td>1.237094e+00</td>\n",
              "      <td>1.194353e+00</td>\n",
              "      <td>1.098632e+00</td>\n",
              "      <td>1.088850e+00</td>\n",
              "      <td>1.020713e+00</td>\n",
              "      <td>9.992014e-01</td>\n",
              "      <td>9.952742e-01</td>\n",
              "      <td>9.585956e-01</td>\n",
              "      <td>9.153160e-01</td>\n",
              "      <td>8.762529e-01</td>\n",
              "      <td>8.493371e-01</td>\n",
              "      <td>8.381762e-01</td>\n",
              "      <td>8.140405e-01</td>\n",
              "      <td>7.709250e-01</td>\n",
              "      <td>7.345240e-01</td>\n",
              "      <td>7.257016e-01</td>\n",
              "      <td>6.244603e-01</td>\n",
              "      <td>6.056471e-01</td>\n",
              "      <td>5.212781e-01</td>\n",
              "      <td>4.822270e-01</td>\n",
              "      <td>4.036325e-01</td>\n",
              "      <td>3.300833e-01</td>\n",
              "      <td>250.120109</td>\n",
              "      <td>0.041527</td>\n",
              "    </tr>\n",
              "    <tr>\n",
              "      <th>min</th>\n",
              "      <td>0.000000</td>\n",
              "      <td>-5.640751e+01</td>\n",
              "      <td>-7.271573e+01</td>\n",
              "      <td>-4.832559e+01</td>\n",
              "      <td>-5.683171e+00</td>\n",
              "      <td>-1.137433e+02</td>\n",
              "      <td>-2.616051e+01</td>\n",
              "      <td>-4.355724e+01</td>\n",
              "      <td>-7.321672e+01</td>\n",
              "      <td>-1.343407e+01</td>\n",
              "      <td>-2.458826e+01</td>\n",
              "      <td>-4.797473e+00</td>\n",
              "      <td>-1.868371e+01</td>\n",
              "      <td>-5.791881e+00</td>\n",
              "      <td>-1.921433e+01</td>\n",
              "      <td>-4.498945e+00</td>\n",
              "      <td>-1.412985e+01</td>\n",
              "      <td>-2.516280e+01</td>\n",
              "      <td>-9.498746e+00</td>\n",
              "      <td>-7.213527e+00</td>\n",
              "      <td>-5.449772e+01</td>\n",
              "      <td>-3.483038e+01</td>\n",
              "      <td>-1.093314e+01</td>\n",
              "      <td>-4.480774e+01</td>\n",
              "      <td>-2.836627e+00</td>\n",
              "      <td>-1.029540e+01</td>\n",
              "      <td>-2.604551e+00</td>\n",
              "      <td>-2.256568e+01</td>\n",
              "      <td>-1.543008e+01</td>\n",
              "      <td>0.000000</td>\n",
              "      <td>0.000000</td>\n",
              "    </tr>\n",
              "    <tr>\n",
              "      <th>25%</th>\n",
              "      <td>54201.500000</td>\n",
              "      <td>-9.203734e-01</td>\n",
              "      <td>-5.985499e-01</td>\n",
              "      <td>-8.903648e-01</td>\n",
              "      <td>-8.486401e-01</td>\n",
              "      <td>-6.915971e-01</td>\n",
              "      <td>-7.682956e-01</td>\n",
              "      <td>-5.540759e-01</td>\n",
              "      <td>-2.086297e-01</td>\n",
              "      <td>-6.430976e-01</td>\n",
              "      <td>-5.354257e-01</td>\n",
              "      <td>-7.624942e-01</td>\n",
              "      <td>-4.055715e-01</td>\n",
              "      <td>-6.485393e-01</td>\n",
              "      <td>-4.255740e-01</td>\n",
              "      <td>-5.828843e-01</td>\n",
              "      <td>-4.680368e-01</td>\n",
              "      <td>-4.837483e-01</td>\n",
              "      <td>-4.988498e-01</td>\n",
              "      <td>-4.562989e-01</td>\n",
              "      <td>-2.117214e-01</td>\n",
              "      <td>-2.283949e-01</td>\n",
              "      <td>-5.423504e-01</td>\n",
              "      <td>-1.618463e-01</td>\n",
              "      <td>-3.545861e-01</td>\n",
              "      <td>-3.171451e-01</td>\n",
              "      <td>-3.269839e-01</td>\n",
              "      <td>-7.083953e-02</td>\n",
              "      <td>-5.295979e-02</td>\n",
              "      <td>5.600000</td>\n",
              "      <td>0.000000</td>\n",
              "    </tr>\n",
              "    <tr>\n",
              "      <th>50%</th>\n",
              "      <td>84692.000000</td>\n",
              "      <td>1.810880e-02</td>\n",
              "      <td>6.548556e-02</td>\n",
              "      <td>1.798463e-01</td>\n",
              "      <td>-1.984653e-02</td>\n",
              "      <td>-5.433583e-02</td>\n",
              "      <td>-2.741871e-01</td>\n",
              "      <td>4.010308e-02</td>\n",
              "      <td>2.235804e-02</td>\n",
              "      <td>-5.142873e-02</td>\n",
              "      <td>-9.291738e-02</td>\n",
              "      <td>-3.275735e-02</td>\n",
              "      <td>1.400326e-01</td>\n",
              "      <td>-1.356806e-02</td>\n",
              "      <td>5.060132e-02</td>\n",
              "      <td>4.807155e-02</td>\n",
              "      <td>6.641332e-02</td>\n",
              "      <td>-6.567575e-02</td>\n",
              "      <td>-3.636312e-03</td>\n",
              "      <td>3.734823e-03</td>\n",
              "      <td>-6.248109e-02</td>\n",
              "      <td>-2.945017e-02</td>\n",
              "      <td>6.781943e-03</td>\n",
              "      <td>-1.119293e-02</td>\n",
              "      <td>4.097606e-02</td>\n",
              "      <td>1.659350e-02</td>\n",
              "      <td>-5.213911e-02</td>\n",
              "      <td>1.342146e-03</td>\n",
              "      <td>1.124383e-02</td>\n",
              "      <td>22.000000</td>\n",
              "      <td>0.000000</td>\n",
              "    </tr>\n",
              "    <tr>\n",
              "      <th>75%</th>\n",
              "      <td>139320.500000</td>\n",
              "      <td>1.315642e+00</td>\n",
              "      <td>8.037239e-01</td>\n",
              "      <td>1.027196e+00</td>\n",
              "      <td>7.433413e-01</td>\n",
              "      <td>6.119264e-01</td>\n",
              "      <td>3.985649e-01</td>\n",
              "      <td>5.704361e-01</td>\n",
              "      <td>3.273459e-01</td>\n",
              "      <td>5.971390e-01</td>\n",
              "      <td>4.539234e-01</td>\n",
              "      <td>7.395934e-01</td>\n",
              "      <td>6.182380e-01</td>\n",
              "      <td>6.625050e-01</td>\n",
              "      <td>4.931498e-01</td>\n",
              "      <td>6.488208e-01</td>\n",
              "      <td>5.232963e-01</td>\n",
              "      <td>3.996750e-01</td>\n",
              "      <td>5.008067e-01</td>\n",
              "      <td>4.589494e-01</td>\n",
              "      <td>1.330408e-01</td>\n",
              "      <td>1.863772e-01</td>\n",
              "      <td>5.285536e-01</td>\n",
              "      <td>1.476421e-01</td>\n",
              "      <td>4.395266e-01</td>\n",
              "      <td>3.507156e-01</td>\n",
              "      <td>2.409522e-01</td>\n",
              "      <td>9.104512e-02</td>\n",
              "      <td>7.827995e-02</td>\n",
              "      <td>77.165000</td>\n",
              "      <td>0.000000</td>\n",
              "    </tr>\n",
              "    <tr>\n",
              "      <th>max</th>\n",
              "      <td>172792.000000</td>\n",
              "      <td>2.454930e+00</td>\n",
              "      <td>2.205773e+01</td>\n",
              "      <td>9.382558e+00</td>\n",
              "      <td>1.687534e+01</td>\n",
              "      <td>3.480167e+01</td>\n",
              "      <td>7.330163e+01</td>\n",
              "      <td>1.205895e+02</td>\n",
              "      <td>2.000721e+01</td>\n",
              "      <td>1.559499e+01</td>\n",
              "      <td>2.374514e+01</td>\n",
              "      <td>1.201891e+01</td>\n",
              "      <td>7.848392e+00</td>\n",
              "      <td>7.126883e+00</td>\n",
              "      <td>1.052677e+01</td>\n",
              "      <td>8.877742e+00</td>\n",
              "      <td>1.731511e+01</td>\n",
              "      <td>9.253526e+00</td>\n",
              "      <td>5.041069e+00</td>\n",
              "      <td>5.591971e+00</td>\n",
              "      <td>3.942090e+01</td>\n",
              "      <td>2.720284e+01</td>\n",
              "      <td>1.050309e+01</td>\n",
              "      <td>2.252841e+01</td>\n",
              "      <td>4.584549e+00</td>\n",
              "      <td>7.519589e+00</td>\n",
              "      <td>3.517346e+00</td>\n",
              "      <td>3.161220e+01</td>\n",
              "      <td>3.384781e+01</td>\n",
              "      <td>25691.160000</td>\n",
              "      <td>1.000000</td>\n",
              "    </tr>\n",
              "  </tbody>\n",
              "</table>\n",
              "</div>"
            ],
            "text/plain": [
              "                Time            V1  ...         Amount          Class\n",
              "count  284807.000000  2.848070e+05  ...  284807.000000  284807.000000\n",
              "mean    94813.859575  3.919560e-15  ...      88.349619       0.001727\n",
              "std     47488.145955  1.958696e+00  ...     250.120109       0.041527\n",
              "min         0.000000 -5.640751e+01  ...       0.000000       0.000000\n",
              "25%     54201.500000 -9.203734e-01  ...       5.600000       0.000000\n",
              "50%     84692.000000  1.810880e-02  ...      22.000000       0.000000\n",
              "75%    139320.500000  1.315642e+00  ...      77.165000       0.000000\n",
              "max    172792.000000  2.454930e+00  ...   25691.160000       1.000000\n",
              "\n",
              "[8 rows x 31 columns]"
            ]
          },
          "metadata": {
            "tags": []
          },
          "execution_count": 6
        }
      ]
    },
    {
      "cell_type": "markdown",
      "metadata": {
        "id": "OYN394YFcCC_",
        "colab_type": "text"
      },
      "source": [
        "We count the number of available columns in the dataset..."
      ]
    },
    {
      "cell_type": "code",
      "metadata": {
        "id": "H65tef5LhSXV",
        "colab_type": "code",
        "outputId": "460297f1-3f84-4e93-f291-4355fcb018c6",
        "colab": {
          "base_uri": "https://localhost:8080/",
          "height": 34
        }
      },
      "source": [
        "transaction_data.columns.value_counts().sum()"
      ],
      "execution_count": 0,
      "outputs": [
        {
          "output_type": "execute_result",
          "data": {
            "text/plain": [
              "31"
            ]
          },
          "metadata": {
            "tags": []
          },
          "execution_count": 7
        }
      ]
    },
    {
      "cell_type": "markdown",
      "metadata": {
        "id": "HR1b3_gHcy3B",
        "colab_type": "text"
      },
      "source": [
        "Note that from the output in the cell before the last, we have the first column as an index column of (0, 1, 2,... 284,807) so we will exclude one column from the total number of columns."
      ]
    },
    {
      "cell_type": "markdown",
      "metadata": {
        "id": "C5dUZ1Bsaki9",
        "colab_type": "text"
      },
      "source": [
        "## Exploratory Data Analysis\n",
        "\n",
        "We will look at the data and visualize the fraud to non-fraud ratio. It is always a good starting point in your fraud analysis, to look at the data first, before we make any changes to it..."
      ]
    },
    {
      "cell_type": "code",
      "metadata": {
        "id": "YkYnS5C4a2l1",
        "colab_type": "code",
        "colab": {}
      },
      "source": [
        "# Define a function to create a scatter plot of our data (X) and labels (y)\n",
        "\n",
        "def plot_data(X, y):\n",
        "\tplt.scatter(X[y == 0, 0], X[y == 0, 1], label=\"Class #0\", alpha=0.3, linewidth=0.15)\n",
        "\tplt.scatter(X[y == 1, 0], X[y == 1, 1], label=\"Class #1\", alpha=0.1, linewidth=0.15, c='r')\n",
        "\tplt.legend()\n",
        "\treturn plt.show()\n"
      ],
      "execution_count": 0,
      "outputs": []
    },
    {
      "cell_type": "code",
      "metadata": {
        "id": "mEckE3qGYFUS",
        "colab_type": "code",
        "colab": {}
      },
      "source": [
        "# The prep_data() on the dataset transaction_data is to create feature set (X) and labels (y)\n",
        "\n",
        "def prep_data(data):\n",
        "    X = data.iloc[:, 3:30] # Select all rows and all columns execpt the last which is \"Class\")\n",
        "    X = np.array(X).astype(np.float) # Transform into an array\n",
        "    y = data.iloc[:, 30]\n",
        "    y=np.array(y).astype(np.float)\n",
        "    return X, y"
      ],
      "execution_count": 0,
      "outputs": []
    },
    {
      "cell_type": "code",
      "metadata": {
        "id": "mFJdwCYqEEvT",
        "colab_type": "code",
        "colab": {}
      },
      "source": [
        "# Create X and y from the prep_data function; which transforms our DataFrame into an array\n",
        "\n",
        "X, y = prep_data(transaction_data)"
      ],
      "execution_count": 0,
      "outputs": []
    },
    {
      "cell_type": "code",
      "metadata": {
        "id": "UR-F55zgEGKd",
        "colab_type": "code",
        "outputId": "12e3653a-f7d4-4cac-9084-7872ab6a249b",
        "colab": {
          "base_uri": "https://localhost:8080/",
          "height": 269
        }
      },
      "source": [
        "# With the code below, we can now see that our data has been transformed into an array that we can now work with\n",
        "\n",
        "print(\"The feature set is: \", X)\n",
        "print(\"------------------------------------------------------------\")\n",
        "print(\"The label is: \", y)"
      ],
      "execution_count": 0,
      "outputs": [
        {
          "output_type": "stream",
          "text": [
            "The feature set is:  [[ 2.53634674e+00  1.37815522e+00 -3.38320770e-01 ...  1.33558377e-01\n",
            "  -2.10530535e-02  1.49620000e+02]\n",
            " [ 1.66480113e-01  4.48154078e-01  6.00176493e-02 ... -8.98309914e-03\n",
            "   1.47241692e-02  2.69000000e+00]\n",
            " [ 1.77320934e+00  3.79779593e-01 -5.03198133e-01 ... -5.53527940e-02\n",
            "  -5.97518406e-02  3.78660000e+02]\n",
            " ...\n",
            " [-3.24963981e+00 -5.57828125e-01  2.63051512e+00 ...  4.45477214e-03\n",
            "  -2.65608286e-02  6.78800000e+01]\n",
            " [ 7.02510230e-01  6.89799168e-01 -3.77961134e-01 ...  1.08820735e-01\n",
            "   1.04532821e-01  1.00000000e+01]\n",
            " [ 7.03337367e-01 -5.06271240e-01 -1.25456788e-02 ... -2.41530880e-03\n",
            "   1.36489143e-02  2.17000000e+02]]\n",
            "------------------------------------------------------------\n",
            "The label is:  [0. 0. 0. ... 0. 0. 0.]\n"
          ],
          "name": "stdout"
        }
      ]
    },
    {
      "cell_type": "code",
      "metadata": {
        "id": "6qXmqooCZTV8",
        "colab_type": "code",
        "outputId": "084dc65b-e0d2-4fb5-91d0-c636e16db122",
        "colab": {
          "base_uri": "https://localhost:8080/",
          "height": 265
        }
      },
      "source": [
        "# We can plot our data by running our `.plot_data()` function on X (feature set) and y (label)\n",
        "\n",
        "plot_data(X, y)"
      ],
      "execution_count": 0,
      "outputs": [
        {
          "output_type": "display_data",
          "data": {
            "image/png": "[encoded data removed]",
            "text/plain": [
              "<Figure size 432x288 with 1 Axes>"
            ]
          },
          "metadata": {
            "tags": []
          }
        }
      ]
    },
    {
      "cell_type": "markdown",
      "metadata": {
        "id": "kXP4oSR9K8cK",
        "colab_type": "text"
      },
      "source": [
        "By visualizing the data we can immediately see how our fraud cases are scattered over our data, and how few are cases we have. A picture often makes the imbalance problem often very clear."
      ]
    },
    {
      "cell_type": "markdown",
      "metadata": {
        "id": "emKBzNndMdGJ",
        "colab_type": "text"
      },
      "source": [
        "## Data Sampling\n",
        "\n",
        "We can increase successful detections using data resampling through various technqiues, to help us deal with imbalance in the dataset. The simplest way to do this is to either ***undersample*** the majority class (Class #0) or ***oversample*** the minority class (Class #1). The latter option would suit best since we do not want to loose data but want more of it. \n",
        "\n",
        "Also, **it is important to note that resampling should occur on the training set and not on the test set.**\n",
        "\n"
      ]
    },
    {
      "cell_type": "code",
      "metadata": {
        "id": "eIH4T1WROLNK",
        "colab_type": "code",
        "colab": {}
      },
      "source": [
        "def compare_plots(X,y,X_resampled,y_resampled, method):\n",
        "    # Start a plot figure\n",
        "    f, (ax1, ax2) = plt.subplots(1, 2)\n",
        "    \n",
        "    # sub-plot number 1, this is our normal data\n",
        "    c0 = ax1.scatter(X[y == 0, 0], X[y == 0, 1], label=\"Class #0\",alpha=0.3)\n",
        "    c1 = ax1.scatter(X[y == 1, 0], X[y == 1, 1], label=\"Class #1\",alpha=0.1, c='r')\n",
        "    ax1.set_title('Original set')\n",
        "    \n",
        "    # sub-plot number 2, this is our oversampled data\n",
        "    ax2.scatter(X_resampled[y_resampled == 0, 0], X_resampled[y_resampled == 0, 1], label=\"Class #0\", alpha=.3)\n",
        "    ax2.scatter(X_resampled[y_resampled == 1, 0], X_resampled[y_resampled == 1, 1], label=\"Class #1\", alpha=.1,c='r')\n",
        "    ax2.set_title(method)\n",
        "    \n",
        "    # some settings and ready to go\n",
        "    plt.figlegend((c0, c1), ('Class #0', 'Class #1'), loc='lower center',\n",
        "                  ncol=2, labelspacing=0.)\n",
        "    plt.tight_layout(pad=3)\n",
        "    return plt.show()"
      ],
      "execution_count": 0,
      "outputs": []
    },
    {
      "cell_type": "code",
      "metadata": {
        "id": "L54SvURcK5_9",
        "colab_type": "code",
        "outputId": "0a0e2555-5d81-4d07-b3e7-db2cd7afc589",
        "colab": {
          "base_uri": "https://localhost:8080/",
          "height": 284
        }
      },
      "source": [
        "# Oversampling the dataset to make comparisons\n",
        "\n",
        "from imblearn.over_sampling import RandomOverSampler  # Import the oversampling module\n",
        "\n",
        "method = RandomOverSampler()  # Assign the module to a variable called method \n",
        "\n",
        "X_resampled, y_resampled = method.fit_sample(X, y) # Call the fit operation on the variables\n",
        "\n",
        "compare_plots(X, y, X_resampled, y_resampled, method=\"RandomOverSampler\") # Compare the ,plots of each"
      ],
      "execution_count": 0,
      "outputs": [
        {
          "output_type": "display_data",
          "data": {
            "image/png": "[encoded data removed]",
            "text/plain": [
              "<Figure size 432x288 with 2 Axes>"
            ]
          },
          "metadata": {
            "tags": []
          }
        }
      ]
    },
    {
      "cell_type": "markdown",
      "metadata": {
        "id": "hQ68O1aXOvWK",
        "colab_type": "text"
      },
      "source": [
        "As you can see, we oversampling the dataset created copies of the minority class (Class #1) to inflate the numbers."
      ]
    },
    {
      "cell_type": "markdown",
      "metadata": {
        "id": "jmg56f83QzO1",
        "colab_type": "text"
      },
      "source": [
        "Another sampling technique is know as SMOTE (Synthetic Minority Over-sampling Technique) which does not create exact copies of observations, but creates new, synthetic, samples that are quite similar to the existing observations in the minority class. \n",
        "\n",
        "SMOTE is therefore slightly more sophisticated than just copying observations, and is defintely the technique we can apply to our credit card data."
      ]
    },
    {
      "cell_type": "code",
      "metadata": {
        "id": "8cu1pPAhOXM_",
        "colab_type": "code",
        "outputId": "b7ed5ade-6084-4901-cffd-1269f5209099",
        "colab": {
          "base_uri": "https://localhost:8080/",
          "height": 265
        }
      },
      "source": [
        "from imblearn.over_sampling import SMOTE # Import the SMOTE module from the imblearn library\n",
        "\n",
        "# Use the prep_data function on df to create features X and labels y\n",
        "X, y = prep_data(transaction_data) # (Optional)\n",
        "\n",
        "# Define the resampling method as SMOTE of the regular kind, under the variable method\n",
        "method = SMOTE(kind='regular')\n",
        "\n",
        "# Create the resampled feature set\n",
        "X_resampled, y_resampled = method.fit_sample(X, y)\n",
        "\n",
        "# Plot the resampled data\n",
        "plot_data(X_resampled, y_resampled)"
      ],
      "execution_count": 0,
      "outputs": [
        {
          "output_type": "display_data",
          "data": {
            "image/png": "[encoded data removed]",
            "text/plain": [
              "<Figure size 432x288 with 1 Axes>"
            ]
          },
          "metadata": {
            "tags": []
          }
        }
      ]
    },
    {
      "cell_type": "markdown",
      "metadata": {
        "id": "wNZpTNndSmeF",
        "colab_type": "text"
      },
      "source": [
        "As we can see in the plot above, we have created a fairly balanced dataset by \"faking\" copies of the minority class. The minority class is now much more prominently visible in our data.\n"
      ]
    },
    {
      "cell_type": "markdown",
      "metadata": {
        "id": "gFHMyfMgTTPm",
        "colab_type": "text"
      },
      "source": [
        "Let's compare those results to our original data, to get a good feeling for what has actually happened..."
      ]
    },
    {
      "cell_type": "code",
      "metadata": {
        "id": "oSA3IWc9RqKQ",
        "colab_type": "code",
        "outputId": "a590ca54-e49a-4a15-891c-082681658a87",
        "colab": {
          "base_uri": "https://localhost:8080/",
          "height": 393
        }
      },
      "source": [
        "# Print the value_counts on the original labels y\n",
        "print(pd.value_counts(pd.Series(y)))\n",
        "\n",
        "# Print the value_counts\n",
        "print(pd.value_counts(pd.Series(y_resampled)))\n",
        "\n",
        "# Run compare_plot\n",
        "compare_plots(X, y, X_resampled, y_resampled, method='SMOTE')"
      ],
      "execution_count": 0,
      "outputs": [
        {
          "output_type": "stream",
          "text": [
            "0.0    284315\n",
            "1.0       492\n",
            "dtype: int64\n",
            "1.0    284315\n",
            "0.0    284315\n",
            "dtype: int64\n"
          ],
          "name": "stdout"
        },
        {
          "output_type": "display_data",
          "data": {
            "image/png": "[encoded data removed]",
            "text/plain": [
              "<Figure size 432x288 with 2 Axes>"
            ]
          },
          "metadata": {
            "tags": []
          }
        }
      ]
    },
    {
      "cell_type": "markdown",
      "metadata": {
        "id": "6eDl5Wh0ToME",
        "colab_type": "text"
      },
      "source": [
        "As we can see from the above, the Class #0 and Class #1 are now equal in number. \n",
        "\n",
        "It should by now be clear that our SMOTE has balanced our data completely, and that the minority class is now equal in size to the majority class. Visualizing the data shows the effect on your data very clearly."
      ]
    },
    {
      "cell_type": "markdown",
      "metadata": {
        "id": "zz_cTLggURGo",
        "colab_type": "text"
      },
      "source": [
        "## Traditional Fraud Detection Models vs Machine Learning Models\n",
        "\n",
        "As a data scienists, you will often be asked to defend your method of choice. So it is important to understand the intricacies of both methods.\n",
        "\n",
        "***Traditionally***, fraud analysts use rule-based systems to detect fraud. The rules maybe based on, say; location (and block transactions from risky zip codes). They may also create rules to block transactions from cards used too frequently. It could also include the medium, biometrics, as well as purchase amount. There are major drawbacks to this method as they create too mnay false positives (alerting authorities even while there was no fraudulent activities while the card was used), which of course could be bad for business.\n",
        "\n",
        "Other drawbacks of this method are;\n",
        "\n",
        "1. Fixed thresholds per rule to determine fraud.\n",
        "2. Limited to yes/no outcomes. (Unlike Machine Learning where you get a probability value which gives you a more fine-grained approach in tuning the outcome.)\n",
        "3. Fail to capture interaction between features. (This is one big advantage of using Machine Learning methods as they are majorly pattern recognition systems.)"
      ]
    },
    {
      "cell_type": "markdown",
      "metadata": {
        "id": "w45bfdLzY_do",
        "colab_type": "text"
      },
      "source": [
        "## Why use machine learning (ML) for fraud detection?\n",
        "\n",
        "1. Machine learning (ML) models adapt to the data, and thus can change over time.\n",
        "\n",
        "2. ML uses all the data combined rather than a threshold per feature\n",
        "\n",
        "3. ML can give a score, rather than a yes/no.\n",
        "\n",
        "4. ML will typically have a better performance and can be combined with rules"
      ]
    },
    {
      "cell_type": "markdown",
      "metadata": {
        "id": "clGm0y1UZeDW",
        "colab_type": "text"
      },
      "source": [
        "N/B: You can also explore an hybrid system where you can combine the ML models with rule-based systems in a sufficient way."
      ]
    },
    {
      "cell_type": "markdown",
      "metadata": {
        "id": "H_wgKSndamom",
        "colab_type": "text"
      },
      "source": [
        "### Let's explore the traditional way to catch fraud...\n",
        "\n",
        "First we'll define threshold values using common statistics, to split fraud and non-fraud. Then, use those thresholds on the features to detect fraud. This is common practice within fraud analytics teams.\n",
        "\n",
        "Statistical thresholds are often determined by looking at the mean values of observations."
      ]
    },
    {
      "cell_type": "code",
      "metadata": {
        "id": "rj7JiwbOUulk",
        "colab_type": "code",
        "outputId": "b6973d58-5477-49f9-e406-a7af41ed867b",
        "colab": {
          "base_uri": "https://localhost:8080/",
          "height": 90
        }
      },
      "source": [
        "# Get the mean for each group\n",
        "transaction_data.groupby('Class').mean()  # Use groupby() to group transaction_data on Class and obtain the mean of the features.\n",
        "\n",
        "# Implement a rule for stating which cases are flagged as fraud\n",
        "transaction_data['flag_as_fraud'] = np.where(np.logical_and(transaction_data['V1'] < -3, transaction_data['V3'] < -5), 1, 0) # Create the condition V1 smaller than -3, and V3 smaller than -5 as a condition to flag fraud cases\n",
        "\n",
        "# Create a crosstab of flagged fraud cases versus the actual fraud cases\n",
        "print(pd.crosstab(transaction_data.Class, transaction_data.flag_as_fraud, rownames=['Actual Fraud'], colnames=['Flagged Fraud'])) # As a measure of performance, use the crosstab function from pandas to compare our flagged fraud cases to actual fraud cases."
      ],
      "execution_count": 0,
      "outputs": [
        {
          "output_type": "stream",
          "text": [
            "Flagged Fraud       0     1\n",
            "Actual Fraud               \n",
            "0              283089  1226\n",
            "1                 322   170\n"
          ],
          "name": "stdout"
        }
      ]
    },
    {
      "cell_type": "markdown",
      "metadata": {
        "id": "n1ymNRVqbwBE",
        "colab_type": "text"
      },
      "source": [
        "With this rule, we detect 170 out of 492 fraud cases, but can't detect the other 322, and get 1226 false positives. We can see that this traditional method is quite inefficient."
      ]
    },
    {
      "cell_type": "markdown",
      "metadata": {
        "id": "-Dplqy-HcW-B",
        "colab_type": "text"
      },
      "source": [
        "### Using ML classification to catch fraud\n",
        "\n",
        "We have tested with the traditional method and we see how bad it was in doing the job of detecting fraud cases in our credit card data correctly. We will now implement a simple Machine Learning model under the same scenario to help us detect fraud, and then we can compare both methods. The model we will implement is a `Logistic Regression` model."
      ]
    },
    {
      "cell_type": "code",
      "metadata": {
        "id": "Q9LnvQKVbppT",
        "colab_type": "code",
        "outputId": "e20df716-f37a-45a8-c16e-386089f780df",
        "colab": {
          "base_uri": "https://localhost:8080/",
          "height": 310
        }
      },
      "source": [
        "# Import the needed modules for this experiment\n",
        "from sklearn.model_selection import train_test_split  # For spliting our dataset into a training and a test set.\n",
        "from sklearn.linear_model import LogisticRegression  # The learning algorithm; the Machine Learning model we will train\n",
        "\n",
        "from sklearn.metrics import classification_report  # For getting reports on accuracy, precision and other metrics\n",
        "from sklearn.metrics import confusion_matrix  # For using the confusion matrix to check our result\n",
        "\n",
        "# Create the training and testing sets\n",
        "X_train, X_test, y_train, y_test = train_test_split(X, y, test_size=0.3, random_state=0)  # Split X and y into training and test data, keeping 30% of the data for testing.\n",
        "\n",
        "\n",
        "# Fit a logistic regression model to our data\n",
        "model = LogisticRegression()   \n",
        "model.fit(X_train, y_train)   # Fit your model to your training data.\n",
        "\n",
        "# Obtain model predictions\n",
        "predicted = model.predict(X_test)  # Obtain the model predicted labels\n",
        "\n",
        "\n",
        "# Obtain a classification comparing y_test with predicted, and use the given confusion matrix to check your results\n",
        "\n",
        "# Print the classifcation report and confusion matrix\n",
        "print('Classification report:\\n', classification_report(y_test, predicted))\n",
        "conf_mat = confusion_matrix(y_true=y_test, y_pred=predicted)\n",
        "print('Confusion matrix:\\n', conf_mat)"
      ],
      "execution_count": 0,
      "outputs": [
        {
          "output_type": "stream",
          "text": [
            "/usr/local/lib/python3.6/dist-packages/sklearn/linear_model/logistic.py:432: FutureWarning: Default solver will be changed to 'lbfgs' in 0.22. Specify a solver to silence this warning.\n",
            "  FutureWarning)\n"
          ],
          "name": "stderr"
        },
        {
          "output_type": "stream",
          "text": [
            "Classification report:\n",
            "               precision    recall  f1-score   support\n",
            "\n",
            "         0.0       1.00      1.00      1.00     85296\n",
            "         1.0       0.88      0.62      0.73       147\n",
            "\n",
            "    accuracy                           1.00     85443\n",
            "   macro avg       0.94      0.81      0.86     85443\n",
            "weighted avg       1.00      1.00      1.00     85443\n",
            "\n",
            "Confusion matrix:\n",
            " [[85284    12]\n",
            " [   56    91]]\n"
          ],
          "name": "stdout"
        }
      ]
    },
    {
      "cell_type": "markdown",
      "metadata": {
        "id": "zICsZaJ5gkqQ",
        "colab_type": "text"
      },
      "source": [
        "With the Machine Learning method, we are getting far fewer false positives (12), so that's an improvement. Also, we're catching a higher percentage of fraud cases (91), so that is also better than before. But we missed 56 cases of fraud."
      ]
    },
    {
      "cell_type": "markdown",
      "metadata": {
        "id": "Ps6oEn1ahWeN",
        "colab_type": "text"
      },
      "source": [
        "We can try improving our baseline model (the Logistic Regression model we are using to test and train) by combining it with a our initially choen resampling method SMOTE (notice we did not resample our training set before fitting it). \n",
        "\n",
        "We can efficiently do this by using a pipeline that combines the resampling method with the model in one go."
      ]
    },
    {
      "cell_type": "code",
      "metadata": {
        "id": "tiXwx6yRf5-V",
        "colab_type": "code",
        "colab": {}
      },
      "source": [
        "# This is the pipeline module we need for this from imblearn\n",
        "from imblearn.pipeline import Pipeline \n",
        "\n",
        "# Define which resampling method and which ML model to use in the pipeline\n",
        "resampling = SMOTE(kind='borderline2')\n",
        "model = LogisticRegression()\n",
        "\n",
        "# Define the pipeline, tell it to combine SMOTE with the Logistic Regression model\n",
        "pipeline = Pipeline([('SMOTE', resampling), ('Logistic Regression', model)])"
      ],
      "execution_count": 0,
      "outputs": []
    },
    {
      "cell_type": "markdown",
      "metadata": {
        "id": "0hoVF7uWjGW1",
        "colab_type": "text"
      },
      "source": [
        "We can now implement our `pipeline` on our credit card transaction dataset..."
      ]
    },
    {
      "cell_type": "code",
      "metadata": {
        "id": "O8CprcV1i2HC",
        "colab_type": "code",
        "outputId": "612ccd95-a3c4-4b4b-b5d1-53fce9d89acc",
        "colab": {
          "base_uri": "https://localhost:8080/",
          "height": 310
        }
      },
      "source": [
        "# Split your data X and y, into a training and a test set and fit the pipeline onto the training data\n",
        "X_train, X_test, y_train, y_test = train_test_split(X, y, train_size=0.7, random_state=0)\n",
        "\n",
        "\n",
        "pipeline.fit(X_train, y_train) # Fit the pipeline onto the training data \n",
        "\n",
        "predicted = pipeline.predict(X_test) # Obtain predictions on the test set\n",
        "\n",
        "# Obtain the results from the classification report and confusion matrix \n",
        "print('Classifcation report:\\n', classification_report(y_test, predicted))\n",
        "conf_mat = confusion_matrix(y_true=y_test, y_pred=predicted)\n",
        "print('Confusion matrix:\\n', conf_mat)"
      ],
      "execution_count": 0,
      "outputs": [
        {
          "output_type": "stream",
          "text": [
            "/usr/local/lib/python3.6/dist-packages/sklearn/linear_model/logistic.py:432: FutureWarning: Default solver will be changed to 'lbfgs' in 0.22. Specify a solver to silence this warning.\n",
            "  FutureWarning)\n"
          ],
          "name": "stderr"
        },
        {
          "output_type": "stream",
          "text": [
            "Classifcation report:\n",
            "               precision    recall  f1-score   support\n",
            "\n",
            "         0.0       1.00      0.99      1.00     85296\n",
            "         1.0       0.14      0.86      0.25       147\n",
            "\n",
            "    accuracy                           0.99     85443\n",
            "   macro avg       0.57      0.93      0.62     85443\n",
            "weighted avg       1.00      0.99      0.99     85443\n",
            "\n",
            "Confusion matrix:\n",
            " [[84535   761]\n",
            " [   20   127]]\n"
          ],
          "name": "stdout"
        }
      ]
    },
    {
      "cell_type": "code",
      "metadata": {
        "id": "UXbRN1Bxq5eJ",
        "colab_type": "code",
        "outputId": "5494804f-b55b-4a48-c19d-39cec3266c21",
        "colab": {
          "base_uri": "https://localhost:8080/",
          "height": 35
        }
      },
      "source": [
        "from sklearn.metrics import accuracy_score  # Import accuracy score module so we can rate the accuracy of current Logistic Reg model\n",
        "\n",
        "LR_accuracy = accuracy_score(y_test, predicted)\n",
        "print(\"Accuracy for the Logistic Regression model is {}%\".format(LR_accuracy * 100))"
      ],
      "execution_count": 0,
      "outputs": [
        {
          "output_type": "stream",
          "text": [
            "Accuracy for the Logistic Regression model is 99.085940334492%\n"
          ],
          "name": "stdout"
        }
      ]
    },
    {
      "cell_type": "markdown",
      "metadata": {
        "id": "jZkttWhAjtUN",
        "colab_type": "text"
      },
      "source": [
        "This is a good improvemnt as the SMOTE method slightly improves our results. We now manage to find all cases of fraud, but we have a slightly higher number of false positives, albeit only 797 cases compared to the initial 12 cases. \n",
        "\n",
        "Remember, not in all cases does resampling necessarily lead to better results. When the fraud cases are very spread and scattered over the data, using SMOTE can introduce a bit of bias. So we should watch out and try to undertstand the dataset before we move on to what resampling method will work best for it."
      ]
    },
    {
      "cell_type": "markdown",
      "metadata": {
        "id": "h5eqr7D7kl4K",
        "colab_type": "text"
      },
      "source": [
        "## Why do we use ML `classification` methods?\n",
        "\n",
        "The goal of using classification is to use known fraud cases to train a model to recognise new fraud cases. This is basically for generalization purposes where the model can be able to give a probability score for newer cases it has not seen before while it is in production.\n",
        "\n",
        "`Logistic Regression` model is quite useful for classification in supervised learning (a method in ML that involves using labelled data to train a model) and they can also be adjusted well to suit imbalanced data. This is why it is quite useful for this particular problem of credit card fraud detection.\n",
        "\n",
        "If `Logistic Regression` is not good enough for our purposes, we will move on to trying out other classification models as this is a supervied learning (with labelled data) and a classification (more specifically, binary classification because the Class labels are \"1\" and \"0\") problem. But before we move on to exploring models, we will neeed to set a benchmark or \"natural accuracy\" for which we can use to compare the results of our model with."
      ]
    },
    {
      "cell_type": "markdown",
      "metadata": {
        "id": "FyIgg3E0ogdi",
        "colab_type": "text"
      },
      "source": [
        "### Determining Benchmark Performance\n",
        "\n",
        "First we will need to explore how prevalent fraud is in the dataset, to understand what the \"natural accuracy\" is, if we were to predict everything as non-fraud. It's is important to understand which level of \"accuracy\" you need to \"beat\" in order to get a better prediction than by doing nothing."
      ]
    },
    {
      "cell_type": "code",
      "metadata": {
        "id": "DQIVeWH9jbWg",
        "colab_type": "code",
        "outputId": "bf34e1d0-8aa1-42a1-ee7c-9d09ec9ca453",
        "colab": {
          "base_uri": "https://localhost:8080/",
          "height": 35
        }
      },
      "source": [
        "# Count the total number of observations from the length of y (the label)\n",
        "total_obs = len(y)\n",
        "\n",
        "# Count the total number of non-fraudulent observations \n",
        "non_fraud = [i for i in y if i == 0]\n",
        "count_non_fraud = non_fraud.count(0)\n",
        "\n",
        "# Calculate the percentage of non fraud observations in the dataset\n",
        "percentage = (float(len(non_fraud))/float(total_obs)) * 100\n",
        "\n",
        "# Print the percentage: this is our \"natural accuracy\" by doing nothing\n",
        "print(percentage)"
      ],
      "execution_count": 0,
      "outputs": [
        {
          "output_type": "stream",
          "text": [
            "99.82725143693798\n"
          ],
          "name": "stdout"
        }
      ]
    },
    {
      "cell_type": "markdown",
      "metadata": {
        "id": "zQdXNuJCpPWD",
        "colab_type": "text"
      },
      "source": [
        "This tells us that by doing nothing, we would be correct in 99.82% of the cases. So now you understand, that if we get an accuracy of less than this number, our model does not actually add any value in predicting how many cases are correct. Comparing this to the accuracy result for the `Logistic Regression` model (99.04%), we can see that the model is signicantly lower in accuracy than the \"natural accuracy\", which means it does not contribute much to the result."
      ]
    },
    {
      "cell_type": "markdown",
      "metadata": {
        "id": "4cWbe_qWpYK_",
        "colab_type": "text"
      },
      "source": [
        "Since we already worked with `Logistic Regression` model as a baseline model, we can try using other classifiers such as `Random Forest Classifiers` to see if we can improve the result.\n",
        "\n",
        "`Random Forest` prevents overfitting (the scenario whereby the model performs well in training set but performs worse when tested on the test dataset) most of the time, by creating random subsets of the features and building smaller trees using these subsets. Afterwards, it combines the subtrees of subsamples of features, so it does not tend to overfit to your entire feature set the way \"deep\" Decisions Trees do."
      ]
    },
    {
      "cell_type": "code",
      "metadata": {
        "id": "alvDtdpvpFwv",
        "colab_type": "code",
        "outputId": "cb8fe517-5659-4bb8-e32a-3a7149d9e5e8",
        "colab": {
          "base_uri": "https://localhost:8080/",
          "height": 74
        }
      },
      "source": [
        "# Import the random forest model from sklearn\n",
        "from sklearn.ensemble import RandomForestClassifier\n",
        "\n",
        "# Split your data into training and test set\n",
        "X_train, X_test, y_train, y_test = train_test_split(X, y, test_size=0.3, random_state=0)\n",
        "\n",
        "# Define the model as the random forest\n",
        "model = RandomForestClassifier(random_state=5)\n",
        "\n",
        "# Fit the model to our training set\n",
        "model.fit(X_train, y_train)\n",
        "\n",
        "# Obtain predictions from the test data \n",
        "predicted = model.predict(X_test)"
      ],
      "execution_count": 0,
      "outputs": [
        {
          "output_type": "stream",
          "text": [
            "/usr/local/lib/python3.6/dist-packages/sklearn/ensemble/forest.py:245: FutureWarning: The default value of n_estimators will change from 10 in version 0.20 to 100 in 0.22.\n",
            "  \"10 in version 0.20 to 100 in 0.22.\", FutureWarning)\n"
          ],
          "name": "stderr"
        }
      ]
    },
    {
      "cell_type": "code",
      "metadata": {
        "id": "b5s_--zAs6vy",
        "colab_type": "code",
        "outputId": "a74e106e-aad7-447a-e584-d6f84856e584",
        "colab": {
          "base_uri": "https://localhost:8080/",
          "height": 35
        }
      },
      "source": [
        "# Let us print out the accuracy score for this model\n",
        "print(\"Accuracy score for the Random Forest Classifier is {}%\".format(accuracy_score(y_test, predicted) *100))"
      ],
      "execution_count": 0,
      "outputs": [
        {
          "output_type": "stream",
          "text": [
            "Accuracy score for the Random Forest Classifier is 99.94850368081644%\n"
          ],
          "name": "stdout"
        }
      ]
    },
    {
      "cell_type": "markdown",
      "metadata": {
        "id": "uCGM8zyPtVUv",
        "colab_type": "text"
      },
      "source": [
        "We can see that the Random Forest Classifier performed better that the previous model and beats the \"natural accuracy\" of 99.82%."
      ]
    },
    {
      "cell_type": "markdown",
      "metadata": {
        "id": "g2dlNtrVusgJ",
        "colab_type": "text"
      },
      "source": [
        "### Performance metrics for the Random Forest Classifier Model\n",
        "\n",
        "This result shows that accuracy is not a good performance metric when working with highly imbalanced dataset. We should throw accuracy out of the window when working on fraud detection problems. With highly imbalanced fraud data, the AUROC (Area Under Receiver Operating Characteristic) curve is a more reliable performance metric, used to compare different classifiers. Moreover, the classification report tells you about the precision and recall of your model, whilst the confusion matrix actually shows how many fraud cases you can predict correctly."
      ]
    },
    {
      "cell_type": "code",
      "metadata": {
        "id": "tiArS6Gks7fc",
        "colab_type": "code",
        "outputId": "485a7682-103f-4c88-cdcd-793fd3c3ccf3",
        "colab": {
          "base_uri": "https://localhost:8080/",
          "height": 235
        }
      },
      "source": [
        "# Import the packages to get the different performance metrics\n",
        "from sklearn.metrics import classification_report, confusion_matrix, roc_auc_score\n",
        "\n",
        "# Obtain the predictions from our random forest model \n",
        "predicted = model.predict(X_test)\n",
        "\n",
        "# Predict probabilities\n",
        "probs = model.predict_proba(X_test)\n",
        "\n",
        "# Print the ROC curve, classification report and confusion matrix\n",
        "print(roc_auc_score(y_test, probs[:,1]))\n",
        "print(classification_report(y_test, predicted))\n",
        "print(confusion_matrix(y_test, predicted))"
      ],
      "execution_count": 0,
      "outputs": [
        {
          "output_type": "stream",
          "text": [
            "0.9248664833594288\n",
            "              precision    recall  f1-score   support\n",
            "\n",
            "         0.0       1.00      1.00      1.00     85296\n",
            "         1.0       0.95      0.74      0.83       147\n",
            "\n",
            "    accuracy                           1.00     85443\n",
            "   macro avg       0.97      0.87      0.92     85443\n",
            "weighted avg       1.00      1.00      1.00     85443\n",
            "\n",
            "[[85290     6]\n",
            " [   38   109]]\n"
          ],
          "name": "stdout"
        }
      ]
    },
    {
      "cell_type": "markdown",
      "metadata": {
        "id": "SFtFV81-zOm1",
        "colab_type": "text"
      },
      "source": [
        "The model predicts 115 cases of fraud, out of which 109 are actual fraud. There are only 6 false positives. This is really good, and as a result you have a very high precision score. You do however, don't catch 38 cases of actual fraud. Recall is therefore not as good as precision."
      ]
    },
    {
      "cell_type": "markdown",
      "metadata": {
        "id": "JlWBbVSG_AUV",
        "colab_type": "text"
      },
      "source": [
        "### Plotting the Precision Recall Curve\n",
        "We will plot the Precision-Recall curve, to investigate the trade-off between the two in your model. In this curve Precision and Recall are inversely related; as Precision increases, Recall falls and vice-versa. A balance between these two needs to be achieved in your model, otherwise you might end up with many false positives, or not enough actual fraud cases caught. To achieve this and to compare performance, the precision-recall curves come in handy."
      ]
    },
    {
      "cell_type": "code",
      "metadata": {
        "id": "WXYmxHCSs7Yg",
        "colab_type": "code",
        "colab": {}
      },
      "source": [
        "from sklearn.metrics import average_precision_score, precision_recall_curve, roc_curve\n",
        "\n",
        "\n",
        "# Calculate average precision and the PR curve\n",
        "average_precision = average_precision_score(y_test, predicted)  # Calculate the average precision by running the function on the actual labels y_test and the predicted labels predicted\n"
      ],
      "execution_count": 0,
      "outputs": []
    },
    {
      "cell_type": "code",
      "metadata": {
        "id": "rs7SOw_E_fPu",
        "colab_type": "code",
        "colab": {}
      },
      "source": [
        "# Defining a funcrion to plot the Precision-Recall Curve\n",
        "def plot_pr_curve(recall, precision, average_precision):\n",
        "    plt.step(recall, precision, color='b', alpha=0.2, where='post')\n",
        "    plt.fill_between(recall, precision, step='post', alpha=0.2, color='b')\n",
        "    plt.xlabel('Recall')\n",
        "    plt.ylabel('Precision')\n",
        "    plt.ylim([0.0, 1.05])\n",
        "    plt.xlim([0.0, 1.0])\n",
        "    plt.title('2-class Precision-Recall curve: AP={0:0.2f}'.format(average_precision))\n",
        "    plt.show()"
      ],
      "execution_count": 0,
      "outputs": []
    },
    {
      "cell_type": "code",
      "metadata": {
        "id": "91pmoe6dAVPN",
        "colab_type": "code",
        "outputId": "5a70b2ae-bd4d-4d65-df95-361fb6ad9ca2",
        "colab": {
          "base_uri": "https://localhost:8080/",
          "height": 295
        }
      },
      "source": [
        "# Calculate average precision and the PR curve\n",
        "average_precision = average_precision_score(y_test, predicted)\n",
        "\n",
        "# Obtain precision and recall \n",
        "precision, recall, _ = precision_recall_curve(y_test, predicted)\n",
        "\n",
        "# Plot the recall precision tradeoff\n",
        "plot_pr_curve(recall, precision, average_precision)"
      ],
      "execution_count": 0,
      "outputs": [
        {
          "output_type": "display_data",
          "data": {
            "image/png": "[encoded data removed]",
            "text/plain": [
              "<Figure size 432x288 with 1 Axes>"
            ]
          },
          "metadata": {
            "tags": []
          }
        }
      ]
    },
    {
      "cell_type": "markdown",
      "metadata": {
        "id": "6cTAq1TXegfZ",
        "colab_type": "text"
      },
      "source": [
        "As we can see from the precision-recall curve, the average precision is just about 0.7. Our results shows the recall is low (meaning the classifier correctly detected fraud cases but also failed to detect some other cases that are fraudelent) and significantly high precision (the classifier correctly classified a large number of cases as fraudulent). We typically want a balance between the two. This is called a precision-recall tradeoff."
      ]
    },
    {
      "cell_type": "markdown",
      "metadata": {
        "id": "dThX3m_tDmsd",
        "colab_type": "text"
      },
      "source": [
        "### Model adjustments\n",
        "\n",
        "A simple way to adjust the random forest model to deal with highly imbalanced fraud data, is to use the `class_weights` option when defining the sklearn model."
      ]
    },
    {
      "cell_type": "code",
      "metadata": {
        "id": "JTUZnEP8AYUV",
        "colab_type": "code",
        "outputId": "3a8ed278-456b-42b6-b570-98fd66324e3a",
        "colab": {
          "base_uri": "https://localhost:8080/",
          "height": 292
        }
      },
      "source": [
        "# Define the model with balanced subsample\n",
        "model = RandomForestClassifier(class_weight='balanced_subsample', random_state=5)\n",
        "\n",
        "# Fit your training model to your training set\n",
        "model.fit(X_train, y_train)\n",
        "\n",
        "# Obtain the predicted values and probabilities from the model \n",
        "predicted = model.predict(X_test)\n",
        "probs = model.predict_proba(X_test)\n",
        "\n",
        "# Print the roc_auc_score, the classification report and confusion matrix\n",
        "print(roc_auc_score(y_test, probs[:,1]))\n",
        "print(classification_report(y_test, predicted))\n",
        "print(confusion_matrix(y_test, predicted))"
      ],
      "execution_count": 0,
      "outputs": [
        {
          "output_type": "stream",
          "text": [
            "/usr/local/lib/python3.6/dist-packages/sklearn/ensemble/forest.py:245: FutureWarning: The default value of n_estimators will change from 10 in version 0.20 to 100 in 0.22.\n",
            "  \"10 in version 0.20 to 100 in 0.22.\", FutureWarning)\n"
          ],
          "name": "stderr"
        },
        {
          "output_type": "stream",
          "text": [
            "0.9316641400510681\n",
            "              precision    recall  f1-score   support\n",
            "\n",
            "         0.0       1.00      1.00      1.00     85296\n",
            "         1.0       0.95      0.71      0.82       147\n",
            "\n",
            "    accuracy                           1.00     85443\n",
            "   macro avg       0.98      0.86      0.91     85443\n",
            "weighted avg       1.00      1.00      1.00     85443\n",
            "\n",
            "[[85291     5]\n",
            " [   42   105]]\n"
          ],
          "name": "stdout"
        }
      ]
    },
    {
      "cell_type": "markdown",
      "metadata": {
        "id": "dZ8h64y7EbSf",
        "colab_type": "text"
      },
      "source": [
        "We can see that the model results don't improve drastically. We now have 1 less false positives, but now 42 in stead of 38 false negatives, i.e. cases of fraud we are not catching. If we mostly care about catching fraud, and not so much about the false positives, this does actually not improve our model at all.\n",
        "\n",
        "We can see that the recall is quite low at 0.71 compared to the precision at 0.95"
      ]
    },
    {
      "cell_type": "code",
      "metadata": {
        "id": "Zib-XJAIF0id",
        "colab_type": "code",
        "colab": {}
      },
      "source": [
        "# Defining the function `get_model_results()` so we can easily train the model, obtain predictions, and also get defined metrics. \n",
        "\n",
        "def get_model_results(X_train, y_train, X_test, y_test, model):\n",
        "    model.fit(X_train, y_train)\n",
        "    predicted = model.predict(X_test)\n",
        "    print (classification_report(y_test, predicted))\n",
        "    print (confusion_matrix(y_test, predicted))"
      ],
      "execution_count": 0,
      "outputs": []
    },
    {
      "cell_type": "code",
      "metadata": {
        "id": "V4CUyCWuEWpC",
        "colab_type": "code",
        "outputId": "7558f121-249e-4972-8641-93d1938d3d01",
        "colab": {
          "base_uri": "https://localhost:8080/",
          "height": 217
        }
      },
      "source": [
        "# Change the model options\n",
        "model = RandomForestClassifier(bootstrap=True, class_weight={0:1, 1:12}, criterion='entropy',\n",
        "\t\t\t\n",
        "\t\t\t# Change depth of model\n",
        "            max_depth=10,\n",
        "\t\t\n",
        "\t\t\t# Change the number of samples in leaf nodes\n",
        "            min_samples_leaf=10, \n",
        "\n",
        "\t\t\t# Change the number of trees to use\n",
        "            n_estimators=30, n_jobs=-1, random_state=5)\n",
        "\n",
        "# Run the function get_model_results\n",
        "get_model_results(X_train, y_train, X_test, y_test, model)"
      ],
      "execution_count": 0,
      "outputs": [
        {
          "output_type": "stream",
          "text": [
            "              precision    recall  f1-score   support\n",
            "\n",
            "         0.0       1.00      1.00      1.00     85296\n",
            "         1.0       0.84      0.80      0.82       147\n",
            "\n",
            "    accuracy                           1.00     85443\n",
            "   macro avg       0.92      0.90      0.91     85443\n",
            "weighted avg       1.00      1.00      1.00     85443\n",
            "\n",
            "[[85274    22]\n",
            " [   29   118]]\n"
          ],
          "name": "stdout"
        }
      ]
    },
    {
      "cell_type": "markdown",
      "metadata": {
        "id": "UgYWpULIIgcx",
        "colab_type": "text"
      },
      "source": [
        "\n",
        "When training a model for fraud detection, we may want to try different options and settings to get the best recall-precision trade-off possible. \n",
        "\n",
        "Since for fraud detection we are mostly interested in catching as many fraud cases as possible, we can optimize our model settings to get the best possible Recall score. If we also cared about reducing the number of false positives, we could optimize on F1-score (another metric we could use to balance the precision-recall tradeoff).\n"
      ]
    },
    {
      "cell_type": "markdown",
      "metadata": {
        "id": "LMcSldItGHXP",
        "colab_type": "text"
      },
      "source": [
        "We can see that although the number of false negatives (that is, the number of non-detected credit card fraud cases) has reduced, we saw a significant increase in the number of false positives (number of credit card cases that were incorrectly classified as fraud).\n",
        "\n",
        "We can see an increase in the recall value (from 0.71 --> 0.80) because of the decrease in false negatives) and a decrease in precision value (0.95 --> 0.84).\n",
        "\n",
        "\n",
        "## Using Ensemble Methods\n",
        "\n",
        "\n",
        "At this point, we will have to try combining the best of three candidate algorithms to see if we can increase our model's efficiency (keeping false positives and false negatives low).This methof is called \"ensembling\" as it involvs stacking models together and using the \"wisdom of the crowd\", that is, the majority of the voted class to decide the best model. We will be ensembling (stacking) our models. The 3 models we will use includes;\n",
        "1. `Logistic Regression`: We saw it gave us promising results when we used it earlier. Logistic Regression, has a slightly higher recall score (0.86) than our optimal Random Forest model (0.8), but gives a lot more false positives (797).\n",
        "\n",
        "2. `Random Forest Classifier`: This also gave us promising results and thus is a potential candiate to improve the overall stacked model (the ensemble model).\n",
        "\n",
        "3. `Decision Tree Classifier`: This is a good classifier that is not computationally expensive, but is good for imbalanced datasets and is transparent for model explainability, like the other 2.\n",
        "\n",
        "It is very important that we can also explain how our model is making these predictions as data scientists.\n",
        "\n",
        "The module we will use for the ensembling of these models is the `Voting Classifier` which we can import from the `sklearn` package."
      ]
    },
    {
      "cell_type": "code",
      "metadata": {
        "id": "pi8CHTDgIk_-",
        "colab_type": "code",
        "outputId": "3fe5a25e-a718-4214-e599-4fd661836c66",
        "colab": {
          "base_uri": "https://localhost:8080/",
          "height": 274
        }
      },
      "source": [
        "# Define the Logistic Regression model with weights\n",
        "model = LogisticRegression(class_weight={0:1, 1:15}, random_state=5)\n",
        "\n",
        "# Get the model results\n",
        "get_model_results(X_train, y_train, X_test, y_test, model)"
      ],
      "execution_count": 0,
      "outputs": [
        {
          "output_type": "stream",
          "text": [
            "/usr/local/lib/python3.6/dist-packages/sklearn/linear_model/logistic.py:432: FutureWarning: Default solver will be changed to 'lbfgs' in 0.22. Specify a solver to silence this warning.\n",
            "  FutureWarning)\n"
          ],
          "name": "stderr"
        },
        {
          "output_type": "stream",
          "text": [
            "              precision    recall  f1-score   support\n",
            "\n",
            "         0.0       1.00      1.00      1.00     85296\n",
            "         1.0       0.78      0.82      0.80       147\n",
            "\n",
            "    accuracy                           1.00     85443\n",
            "   macro avg       0.89      0.91      0.90     85443\n",
            "weighted avg       1.00      1.00      1.00     85443\n",
            "\n",
            "[[85262    34]\n",
            " [   27   120]]\n"
          ],
          "name": "stdout"
        }
      ]
    },
    {
      "cell_type": "markdown",
      "metadata": {
        "id": "a-7NBahfSlVP",
        "colab_type": "text"
      },
      "source": [
        "As we can see the `Logistic Regression` model has quite different performance from the `Random Forest`. More false positives, but also a better Recall. It will therefore will a useful addition to the `Random Forest` in an ensemble model. Also, since `Decision Trees` are also great at working with imbalanced data, we will also add it to the stack."
      ]
    },
    {
      "cell_type": "code",
      "metadata": {
        "id": "JgIFfCjkFxMX",
        "colab_type": "code",
        "outputId": "127af90d-5ba5-4d5b-df97-4f9d1b123e1f",
        "colab": {
          "base_uri": "https://localhost:8080/",
          "height": 274
        }
      },
      "source": [
        "# Import the packages\n",
        "from sklearn.ensemble import VotingClassifier\n",
        "from sklearn.tree import DecisionTreeClassifier\n",
        "\n",
        "# Define the three classifiers to use in the ensemble\n",
        "clf1 = LogisticRegression(class_weight={0:1, 1:15}, random_state=5)\n",
        "clf2 = RandomForestClassifier(class_weight={0:1, 1:12}, criterion='entropy', max_depth=10, max_features='log2',\n",
        "            min_samples_leaf=30, n_estimators=30, n_jobs=-1, random_state=5)\n",
        "clf3 = DecisionTreeClassifier(random_state=5, class_weight=\"balanced\")\n",
        "\n",
        "# Combine the classifiers in the ensemble model\n",
        "ensemble_model = VotingClassifier(estimators=[('lr', clf1), ('rf', clf2), ('dt', clf3)], voting='hard')\n",
        "\n",
        "# Get the results \n",
        "get_model_results(X_train, y_train, X_test, y_test, ensemble_model)"
      ],
      "execution_count": 0,
      "outputs": [
        {
          "output_type": "stream",
          "text": [
            "/usr/local/lib/python3.6/dist-packages/sklearn/linear_model/logistic.py:432: FutureWarning: Default solver will be changed to 'lbfgs' in 0.22. Specify a solver to silence this warning.\n",
            "  FutureWarning)\n"
          ],
          "name": "stderr"
        },
        {
          "output_type": "stream",
          "text": [
            "              precision    recall  f1-score   support\n",
            "\n",
            "         0.0       1.00      1.00      1.00     85296\n",
            "         1.0       0.85      0.81      0.83       147\n",
            "\n",
            "    accuracy                           1.00     85443\n",
            "   macro avg       0.92      0.90      0.91     85443\n",
            "weighted avg       1.00      1.00      1.00     85443\n",
            "\n",
            "[[85275    21]\n",
            " [   28   119]]\n"
          ],
          "name": "stdout"
        }
      ]
    },
    {
      "cell_type": "markdown",
      "metadata": {
        "id": "cggUTUnUW0PP",
        "colab_type": "text"
      },
      "source": [
        "As we can see from the results, ensembling the model does not bring about any drastic improvement. The ensembled model was able to detect 119 cases as fraud (correctly), incorrectly failed to detect 28 cases as fraud, and incorrectly classified 21 cases as fraud (false positive). We are also facing a dilemma that is called Precision-Recall trade-off. To decide which final model is best, we need to take into account how bad it is not to catch fraudsters, versus how many false positives the fraud analytics team can deal with. This is a business problem on its own.\n",
        "\n",
        " Let's compare the result of all the models;\n",
        "\n",
        "`Logistic Regression Model`\n",
        "\n",
        "![alt text](https://storage.googleapis.com/creditcard_dataset/Logisitc%20Regression%20Model%20Results.png)\n",
        "\n",
        "**True Negative:** 85262 (Overall test set for predictions).\n",
        "\n",
        "**False Positive:** 34 (The number of cases our model *incorrectly* classified as fraud).\n",
        "\n",
        "**False Negative:** 27 (The number of cases our model did not correctly detect as fraud).\n",
        "\n",
        "**True Positive:** 120 (The number of cases our model correctly classified as fraud).\n",
        "\n",
        "\n",
        "---\n",
        "\n",
        "`Random Forest Classifier Model`\n",
        "\n",
        "![alt text](https://storage.googleapis.com/creditcard_dataset/Random%20Forest%20Classifier%20Model%20Results.png)\n",
        "\n",
        "**True Negative:** 85262 (Overall test set for predictions).\n",
        "\n",
        "**False Positive:** 22 (The number of cases our model *incorrectly* classified as fraud).\n",
        "\n",
        "**False Negative:** 29 (The number of cases our model did not correctly detect as fraud).\n",
        "\n",
        "**True Positive:** 118 (The number of cases our model correctly classified as fraud).\n",
        "\n",
        "\n",
        "\n",
        "---\n",
        "\n",
        "`Ensemble Model`\n",
        "\n",
        "![alt text](https://storage.googleapis.com/creditcard_dataset/Ensemble%20Model%20Results.png)\n",
        "\n",
        "**True Negative:** 85262 (Overall test set for predictions).\n",
        "\n",
        "**False Positive:** 21 (The number of cases our model *incorrectly* classified as fraud).\n",
        "\n",
        "**False Negative:** 28 (The number of cases our model did not correctly detect as fraud).\n",
        "\n",
        "**True Positive:** 119 (The number of cases our model correctly classified as fraud).\n"
      ]
    },
    {
      "cell_type": "markdown",
      "metadata": {
        "id": "lWj3qUZokQB3",
        "colab_type": "text"
      },
      "source": [
        "# Summary"
      ]
    },
    {
      "cell_type": "markdown",
      "metadata": {
        "id": "sHRvJE9pbzxP",
        "colab_type": "text"
      },
      "source": [
        "# Conclusion\n",
        "\n",
        "As we can see from the above comparisons, the choosing any of the models will depend on the metric we want to optimize and what suits our problem best. Do we want to catch more frausters at the expense of many false alarms, or do we want to catch less fraudsters at the expense of lower number of false alarms. This depends on the business problem we are trying to optimize for. The Logistic Regression as a standalone was quite bad in terms of false positives (34), and the Random Forest was worse in terms of false negatives (29).\n",
        "\n",
        "Looking at overall, picture combining multiple models helped us achieve a fair improvement by bringing about the best of all models. But comparing it to the Random Forest Classifier which has very similar results, we might want to take into account other factors like computational expense of the model, as well as explainability of the model too. This, again, depends on the business problem.\n",
        "\n"
      ]
    },
    {
      "cell_type": "markdown",
      "metadata": {
        "id": "hni84I1Bdsa5",
        "colab_type": "text"
      },
      "source": [
        "# Recommendations\n",
        "\n",
        "Based off our findings, we can recommend the following;\n",
        "\n",
        "\n",
        "1.   We could try using a technique called GridSearchCV to see if we can improve our RandomForestClassifier further as it currently seems like the most efficient model (considering all factors).\n",
        "2.   In real-world scenarios, we may have to rely on unlabelled data to detect fraud cases, so we can also try using unsupervised learning techniques for this problem as some times labels are not correctly classified as fraud or non-fraud cases in the source dataset.\n",
        "3. You can also go further by using textual data like SMS, chats, emails, and so on to classify a fraudulent transaction.\n",
        "\n"
      ]
    },
    {
      "cell_type": "markdown",
      "metadata": {
        "id": "6cUZ2RnQkTfx",
        "colab_type": "text"
      },
      "source": [
        "## References\n",
        "\n",
        "1. Kaithekuzhical Leena Kurien & Dr. Ajeet Chikkamannur 2019. DETECTION AND PREDICTION OF CREDIT CARD FRAUD. *INTERNATIONAL JOURNAL OF ENGINEERING SCIENCES & RESEARCH TECHNOLOGY.* 8(3). DOI: 10.5281/zenodo.2608242\n",
        "\n",
        "\n",
        "2. Anuruddha Thennakoon, Chee Bhagyani, Sasitha Premadasa, Shalitha Mihiranga, Nuwan Kuruwitaarachchi, 2019. Real-time Credit Card Fraud Detection Using Machine Learning. \n",
        "\n",
        "3. Jinlong Hu, Junjie Liang, and Shoubin Dong,\"iBGP: A Bipartite Graph Propagation Approach for Mobile\n",
        "Advertising Fraud Detection\" (2017)\n",
        "\n",
        "4. https://www.kaggle.com/mlg-ulb/creditcardfraud/home.\n",
        "\n",
        "5. J. Holton Wilson , “An Analytical Approach To Detecting Insurance Fraud Using Logistic Regression\n",
        "“Journal of Finance and Accountancy\n"
      ]
    }
  ]
}